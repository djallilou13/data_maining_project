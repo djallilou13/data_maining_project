{
 "cells": [
  {
   "cell_type": "markdown",
   "metadata": {},
   "source": [
    "# Boosting Algerian Agricultural Company Profits\n",
    "\n",
    "<font color=\"#fcd695\"> The goal from this project in to create a model that can predict the improvement of salles of agricultural products for a specific agricultural company in other words, we want to dectect how to boost the profit of Algerian Agricultural Company </strong></font>\n"
   ]
  },
  {
   "cell_type": "markdown",
   "metadata": {},
   "source": [
    "## 1 Steps Of The Project:"
   ]
  },
  {
   "cell_type": "markdown",
   "metadata": {},
   "source": [
    "### 1.1 Understand the Business/Research Context:\n",
    "\n",
    "<font color=\"#ffe9c4\">Gain a deep understanding of the business or research context. Understand the domain, business goals, and specific challenges.</font>"
   ]
  },
  {
   "cell_type": "markdown",
   "metadata": {},
   "source": [
    "### 1.2 Data presentation:\n",
    "\n",
    "<font color=\"#ffe9c4\">\n",
    "The dataset is csv file that contains a comprehensive dataset capturing various transactions within an agriculture company.The dataset has this features: \n"
   ]
  },
  {
   "cell_type": "markdown",
   "metadata": {},
   "source": [
    " </font>\n",
    "\n",
    " | Column                  | Description                                              |\n",
    "|-------------------------|----------------------------------------------------------|\n",
    "| CleEffet                | Identifier for transactions.                             |\n",
    "| Date                    | Date of the transaction.                                  |\n",
    "| TypeEffet               | Type of transaction.                                      |\n",
    "| FamilleArticle          | Family/category of the transaction product.              |\n",
    "| CodeProduit             | Product code.                                            |\n",
    "| ReferenceProduit        | Reference code for the product.                           |\n",
    "| NLot                    | Lot number.                                              |\n",
    "| Produit_Designation     | Original designation of the product of a transaction detail.|\n",
    "| DetailEffet_Designation | Designation (sometimes different from Produit_Designation) of a transaction detail.|\n",
    "| Quantite                | Quantity of the product.                                  |\n",
    "| PrixAchat               | Purchase price.                                         |\n",
    "| PrixUnitaireTTC         | Unit price including taxes.                              |\n",
    "| DetailEffet_Marge       | Margin for the transaction detail.                        |\n",
    "| Effet_Marge             | Margin for the transaction.                               |\n",
    "| MontantHT               | Transaction amount excluding taxes.                      |\n",
    "| Payement                | Payment amount.                                          |\n",
    "\n"
   ]
  },
  {
   "cell_type": "code",
   "execution_count": 38,
   "metadata": {},
   "outputs": [],
   "source": [
    "import pandas as pd\n",
    "import matplotlib.pyplot as plt"
   ]
  },
  {
   "cell_type": "code",
   "execution_count": 26,
   "metadata": {},
   "outputs": [
    {
     "name": "stdout",
     "output_type": "stream",
     "text": [
      "<class 'pandas.core.frame.DataFrame'>\n",
      "RangeIndex: 261001 entries, 0 to 261000\n",
      "Data columns (total 16 columns):\n",
      " #   Column                   Non-Null Count   Dtype  \n",
      "---  ------                   --------------   -----  \n",
      " 0   CleEffet                 261001 non-null  int64  \n",
      " 1   Date                     261001 non-null  object \n",
      " 2   TypeEffet                261001 non-null  object \n",
      " 3   FamilleArticle           261001 non-null  object \n",
      " 4   Code Produit             160237 non-null  object \n",
      " 5   Reference Produit        135717 non-null  object \n",
      " 6   NLot                     228637 non-null  object \n",
      " 7   Produit_Designation      261001 non-null  object \n",
      " 8   DetailEffet_Designation  261001 non-null  object \n",
      " 9   Quantite                 261001 non-null  float64\n",
      " 10  PrixAchat                261001 non-null  object \n",
      " 11  PrixUnitaireTTC          261001 non-null  object \n",
      " 12  DetailEffet_Marge        261001 non-null  object \n",
      " 13  Effet_Marge              261001 non-null  object \n",
      " 14  MontantHT                261001 non-null  object \n",
      " 15  Payement                 261001 non-null  object \n",
      "dtypes: float64(1), int64(1), object(14)\n",
      "memory usage: 31.9+ MB\n",
      "None\n",
      "(261001, 16)\n"
     ]
    }
   ],
   "source": [
    "data = pd.read_csv(\"./Project_datamining_final_data_03_12_an1.csv\")\n",
    "print(data.info())\n",
    "print(data.shape)"
   ]
  },
  {
   "cell_type": "code",
   "execution_count": null,
   "metadata": {},
   "outputs": [],
   "source": [
    "data.head()"
   ]
  },
  {
   "cell_type": "code",
   "execution_count": 27,
   "metadata": {},
   "outputs": [],
   "source": [
    "# Data Types Assingment\n",
    "data['CleEffet'] = data['CleEffet'].astype(str)\n",
    "data['Date'] = pd.to_datetime(data['Date'], format = '%m/%d/%Y')\n",
    "data['TypeEffet'] = data['TypeEffet'].astype(str)\n",
    "data['FamilleArticle'] = data['FamilleArticle'].astype(str)\n",
    "data['Code Produit'] = data['Code Produit'].astype(str)\n",
    "data['Reference Produit'] = data['Reference Produit'].astype(str)\n",
    "data['NLot'] = data['NLot'].astype(str)\n",
    "data['Produit_Designation'] = data['Produit_Designation'].astype(str)\n",
    "data['DetailEffet_Designation'] = data['DetailEffet_Designation'].astype(str)\n",
    "data['Code Produit'] = data['Code Produit'].astype(str)\n",
    "\n",
    "data['PrixAchat'] = data['PrixAchat'].str.replace(',', '').astype('float64')\n",
    "data['PrixUnitaireTTC'] = data['PrixUnitaireTTC'].str.replace(',', '').astype('float64')\n",
    "data['DetailEffet_Marge'] = data['DetailEffet_Marge'].str.replace(',', '').astype('float64')\n",
    "data['Effet_Marge'] = data['Effet_Marge'].str.replace(',', '').astype('float64')\n",
    "data['MontantHT'] = data['MontantHT'].str.replace(',', '').astype('float64')\n",
    "data['Payement'] = data['Payement'].str.replace(',', '').astype('float64')"
   ]
  },
  {
   "cell_type": "code",
   "execution_count": 28,
   "metadata": {},
   "outputs": [
    {
     "data": {
      "text/html": [
       "<div>\n",
       "<style scoped>\n",
       "    .dataframe tbody tr th:only-of-type {\n",
       "        vertical-align: middle;\n",
       "    }\n",
       "\n",
       "    .dataframe tbody tr th {\n",
       "        vertical-align: top;\n",
       "    }\n",
       "\n",
       "    .dataframe thead th {\n",
       "        text-align: right;\n",
       "    }\n",
       "</style>\n",
       "<table border=\"1\" class=\"dataframe\">\n",
       "  <thead>\n",
       "    <tr style=\"text-align: right;\">\n",
       "      <th></th>\n",
       "      <th>CleEffet</th>\n",
       "      <th>Date</th>\n",
       "      <th>TypeEffet</th>\n",
       "      <th>FamilleArticle</th>\n",
       "      <th>Code Produit</th>\n",
       "      <th>Reference Produit</th>\n",
       "      <th>NLot</th>\n",
       "      <th>Produit_Designation</th>\n",
       "      <th>DetailEffet_Designation</th>\n",
       "      <th>Quantite</th>\n",
       "      <th>PrixAchat</th>\n",
       "      <th>PrixUnitaireTTC</th>\n",
       "      <th>DetailEffet_Marge</th>\n",
       "      <th>Effet_Marge</th>\n",
       "      <th>MontantHT</th>\n",
       "      <th>Payement</th>\n",
       "    </tr>\n",
       "  </thead>\n",
       "  <tbody>\n",
       "    <tr>\n",
       "      <th>7407</th>\n",
       "      <td>4721</td>\n",
       "      <td>2013-01-01</td>\n",
       "      <td>Bon de livraison</td>\n",
       "      <td>Matériel apiculture</td>\n",
       "      <td>6116</td>\n",
       "      <td>6000</td>\n",
       "      <td>1005125706</td>\n",
       "      <td>Produit_Anon_414</td>\n",
       "      <td>Detail_Anon_429</td>\n",
       "      <td>2.0</td>\n",
       "      <td>2395.0</td>\n",
       "      <td>2750.0</td>\n",
       "      <td>5398.00</td>\n",
       "      <td>5398.00</td>\n",
       "      <td>5500.0</td>\n",
       "      <td>5400.0</td>\n",
       "    </tr>\n",
       "    <tr>\n",
       "      <th>7408</th>\n",
       "      <td>4722</td>\n",
       "      <td>2013-01-01</td>\n",
       "      <td>Bon de livraison</td>\n",
       "      <td>Semences Avoine</td>\n",
       "      <td>0124-002</td>\n",
       "      <td>0124</td>\n",
       "      <td>no lot</td>\n",
       "      <td>Produit_Anon_1482</td>\n",
       "      <td>Detail_Anon_2122</td>\n",
       "      <td>33.0</td>\n",
       "      <td>35.0</td>\n",
       "      <td>60.0</td>\n",
       "      <td>226.55</td>\n",
       "      <td>247.49</td>\n",
       "      <td>2225.0</td>\n",
       "      <td>2220.0</td>\n",
       "    </tr>\n",
       "    <tr>\n",
       "      <th>7409</th>\n",
       "      <td>4722</td>\n",
       "      <td>2013-01-01</td>\n",
       "      <td>Bon de livraison</td>\n",
       "      <td>SEMENCES SEC</td>\n",
       "      <td>0132-001</td>\n",
       "      <td>0132</td>\n",
       "      <td>no lot</td>\n",
       "      <td>Produit_Anon_1820</td>\n",
       "      <td>Detail_Anon_1858</td>\n",
       "      <td>7.0</td>\n",
       "      <td>1900.0</td>\n",
       "      <td>35.0</td>\n",
       "      <td>20.94</td>\n",
       "      <td>247.49</td>\n",
       "      <td>2225.0</td>\n",
       "      <td>2220.0</td>\n",
       "    </tr>\n",
       "    <tr>\n",
       "      <th>7410</th>\n",
       "      <td>4723</td>\n",
       "      <td>2013-01-01</td>\n",
       "      <td>Bon de livraison</td>\n",
       "      <td>Produit Insecticides</td>\n",
       "      <td>0305-071</td>\n",
       "      <td>0305</td>\n",
       "      <td>1002</td>\n",
       "      <td>Produit_Anon_1813</td>\n",
       "      <td>Detail_Anon_1841</td>\n",
       "      <td>1.0</td>\n",
       "      <td>1200.0</td>\n",
       "      <td>1100.0</td>\n",
       "      <td>300.00</td>\n",
       "      <td>300.00</td>\n",
       "      <td>1100.0</td>\n",
       "      <td>1100.0</td>\n",
       "    </tr>\n",
       "    <tr>\n",
       "      <th>7411</th>\n",
       "      <td>4724</td>\n",
       "      <td>2013-01-01</td>\n",
       "      <td>Bon de livraison</td>\n",
       "      <td>Semences piment</td>\n",
       "      <td>0108-005</td>\n",
       "      <td>0108</td>\n",
       "      <td>2292</td>\n",
       "      <td>Produit_Anon_2058</td>\n",
       "      <td>Detail_Anon_2249</td>\n",
       "      <td>40.0</td>\n",
       "      <td>670.0</td>\n",
       "      <td>650.0</td>\n",
       "      <td>2000.00</td>\n",
       "      <td>2000.00</td>\n",
       "      <td>26000.0</td>\n",
       "      <td>26000.0</td>\n",
       "    </tr>\n",
       "  </tbody>\n",
       "</table>\n",
       "</div>"
      ],
      "text/plain": [
       "     CleEffet       Date         TypeEffet        FamilleArticle Code Produit  \\\n",
       "7407     4721 2013-01-01  Bon de livraison   Matériel apiculture         6116   \n",
       "7408     4722 2013-01-01  Bon de livraison       Semences Avoine     0124-002   \n",
       "7409     4722 2013-01-01  Bon de livraison          SEMENCES SEC     0132-001   \n",
       "7410     4723 2013-01-01  Bon de livraison  Produit Insecticides     0305-071   \n",
       "7411     4724 2013-01-01  Bon de livraison       Semences piment     0108-005   \n",
       "\n",
       "     Reference Produit        NLot Produit_Designation  \\\n",
       "7407              6000  1005125706    Produit_Anon_414   \n",
       "7408              0124      no lot   Produit_Anon_1482   \n",
       "7409              0132      no lot   Produit_Anon_1820   \n",
       "7410              0305        1002   Produit_Anon_1813   \n",
       "7411              0108        2292   Produit_Anon_2058   \n",
       "\n",
       "     DetailEffet_Designation  Quantite  PrixAchat  PrixUnitaireTTC  \\\n",
       "7407         Detail_Anon_429       2.0     2395.0           2750.0   \n",
       "7408        Detail_Anon_2122      33.0       35.0             60.0   \n",
       "7409        Detail_Anon_1858       7.0     1900.0             35.0   \n",
       "7410        Detail_Anon_1841       1.0     1200.0           1100.0   \n",
       "7411        Detail_Anon_2249      40.0      670.0            650.0   \n",
       "\n",
       "      DetailEffet_Marge  Effet_Marge  MontantHT  Payement  \n",
       "7407            5398.00      5398.00     5500.0    5400.0  \n",
       "7408             226.55       247.49     2225.0    2220.0  \n",
       "7409              20.94       247.49     2225.0    2220.0  \n",
       "7410             300.00       300.00     1100.0    1100.0  \n",
       "7411            2000.00      2000.00    26000.0   26000.0  "
      ]
     },
     "execution_count": 28,
     "metadata": {},
     "output_type": "execute_result"
    }
   ],
   "source": [
    "data2013 = data[data['Date'].dt.year == 2013]\n",
    "data2013.head()"
   ]
  },
  {
   "cell_type": "code",
   "execution_count": 49,
   "metadata": {},
   "outputs": [
    {
     "name": "stderr",
     "output_type": "stream",
     "text": [
      "C:\\Users\\djbra\\AppData\\Local\\Temp\\ipykernel_12720\\806771421.py:4: SettingWithCopyWarning: \n",
      "A value is trying to be set on a copy of a slice from a DataFrame.\n",
      "Try using .loc[row_indexer,col_indexer] = value instead\n",
      "\n",
      "See the caveats in the documentation: https://pandas.pydata.org/pandas-docs/stable/user_guide/indexing.html#returning-a-view-versus-a-copy\n",
      "  data2013Livraison['Month'] = data2013Livraison['Date'].dt.month\n"
     ]
    },
    {
     "name": "stdout",
     "output_type": "stream",
     "text": [
      "Plots saved as individual image files.\n"
     ]
    }
   ],
   "source": [
    "data2013Livraison = data2013[data2013['TypeEffet'] == 'Bon de livraison']\n",
    "\n",
    "# Extract month and year from the 'Date' column\n",
    "data2013Livraison['Month'] = data2013Livraison['Date'].dt.month\n",
    "\n",
    "# Group by 'FamilleArticle' and 'Month' and sum the 'Quantite' for each group\n",
    "grouped = data2013Livraison.groupby(['FamilleArticle', 'Month'])['Quantite'].sum().reset_index()\n",
    "\n",
    "# Splitting categories into groups of 10 for plotting\n",
    "categories = grouped['FamilleArticle'].unique()\n",
    "\n",
    "for i in range(len(categories) // 10 + 1):\n",
    "    plt.figure(figsize=(10, 6))\n",
    "    \n",
    "    for j in range(i * 10, min((i + 1) * 10, len(categories))):\n",
    "        plt.title(f'Categories {i * 10 + 1} to {min((i + 1) * 10, len(categories))}')\n",
    "        \n",
    "        category = categories[j]\n",
    "        category_data = grouped[grouped['FamilleArticle'] == category]\n",
    "        plt.plot(category_data['Month'], category_data['Quantite'], label=category)\n",
    "        \n",
    "        plt.xlabel('Months')\n",
    "        plt.ylabel('Quantite')\n",
    "    \n",
    "    plt.legend()\n",
    "    plt.tight_layout()\n",
    "    \n",
    "    # Save each set of 10 categories as an individual image file\n",
    "    plt.savefig(f'plot_categories_{i * 10 + 1}_to_{min((i + 1) * 10, len(categories))}.png')\n",
    "    plt.close()  # Close the current figure to prevent overlapping plots\n",
    "\n",
    "print(\"Plots saved as individual image files.\")"
   ]
  },
  {
   "cell_type": "markdown",
   "metadata": {},
   "source": [
    "### 1.3 Data Cleaning and Preprocessing:\n",
    "\n",
    "<font color=\"#ffe9c4\">At this stages we should improve the quality of our data, and make it easy to use and work with by doing the following:</font>"
   ]
  },
  {
   "cell_type": "markdown",
   "metadata": {},
   "source": [
    "#### 1.3.1 Data Cleanning:\n",
    "Clean the raw data by handling missing values, outliers, and inconsistencies.\n",
    "\n"
   ]
  },
  {
   "cell_type": "markdown",
   "metadata": {},
   "source": [
    "#### 1.3.2 Data Preprocessing:\n",
    "Preprocess the data to transform it into a suitable format (type) for analysis since most of our data are of type object. This step include also normalization, standardization, and encoding categorical variables and also transforming the attributes names and content to english since they are written in french."
   ]
  },
  {
   "cell_type": "markdown",
   "metadata": {},
   "source": [
    "### 1.4 Exploratory Data Analysis (EDA):\n",
    "\n",
    "<font color=\"#ffe9c4\">Explore the data to gain insights and an initial understanding of its characteristics. This may involve the use of statistical summaries, visualizations, and other exploratory techniques.</font>"
   ]
  },
  {
   "cell_type": "markdown",
   "metadata": {},
   "source": [
    "### 1.5 Feature Selection/Engineering:\n",
    "\n",
    "<font color=\"#ffe9c4\">Select relevant features (variables) for analysis and, if needed, create new features that may enhance the predictive power of the model.</font>"
   ]
  },
  {
   "cell_type": "markdown",
   "metadata": {},
   "source": [
    "### 1.6 Data Splitting:\n",
    "\n",
    "<font color=\"#ffe9c4\">Divide the dataset into training, validation, and test sets. The training set is used to train the model, the validation set is used to tune hyperparameters, and the test set is used to evaluate the model's performance.</font>\n"
   ]
  },
  {
   "cell_type": "markdown",
   "metadata": {},
   "source": [
    "\n",
    "### 1.7 Model Selection:\n",
    "\n",
    "<font color=\"#ffe9c4\">Choose the appropriate data mining algorithm(s) based on the nature of the problem and the characteristics of the data. Common algorithms include decision trees, clustering, regression, and neural networks.</font>"
   ]
  },
  {
   "cell_type": "markdown",
   "metadata": {},
   "source": [
    "\n",
    "### 1.8 Model Training:\n",
    "\n",
    "<font color=\"#ffe9c4\">Train the selected model(s) on the training dataset. This involves using historical data to teach the model to recognize patterns and relationships.</font>"
   ]
  },
  {
   "cell_type": "markdown",
   "metadata": {},
   "source": [
    "\n",
    "### 1.9 Model Evaluation:\n",
    "\n",
    "<font color=\"#ffe9c4\">Assess the performance of the model using the validation set. This may involve metrics such as accuracy, precision, recall, F1 score, or area under the receiver operating characteristic curve (AUC-ROC), depending on the nature of the problem (classification, regression, etc.).</font>"
   ]
  }
 ],
 "metadata": {
  "kernelspec": {
   "display_name": "DM_ENV",
   "language": "python",
   "name": "python3"
  },
  "language_info": {
   "codemirror_mode": {
    "name": "ipython",
    "version": 3
   },
   "file_extension": ".py",
   "mimetype": "text/x-python",
   "name": "python",
   "nbconvert_exporter": "python",
   "pygments_lexer": "ipython3",
   "version": "3.11.5"
  }
 },
 "nbformat": 4,
 "nbformat_minor": 2
}
