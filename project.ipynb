{
 "cells": [
  {
   "cell_type": "markdown",
   "metadata": {},
   "source": [
    "# Boosting Algerian Agricultural Company Profits\n",
    "\n",
    "<font color=\"#fcd695\"> The goal from this project in to create a model that can predict the improvement of salles of agricultural products for a specific agricultural company in other words, we want to dectect how to boost the profit of Algerian Agricultural Company </strong></font>\n"
   ]
  },
  {
   "cell_type": "markdown",
   "metadata": {},
   "source": [
    "## 1 Steps Of The Project:"
   ]
  },
  {
   "cell_type": "markdown",
   "metadata": {},
   "source": [
    "### 1.1 Understand the Business/Research Context:\n",
    "\n",
    "<font color=\"#ffe9c4\">Gain a deep understanding of the business or research context. Understand the domain, business goals, and specific challenges.</font>"
   ]
  },
  {
   "cell_type": "markdown",
   "metadata": {},
   "source": [
    "### 1.2 Data presentation:\n",
    "\n",
    "<font color=\"#ffe9c4\">\n",
    "The dataset is csv file that contains a comprehensive dataset capturing various transactions within an agriculture company.The dataset has this features: \n"
   ]
  },
  {
   "cell_type": "markdown",
   "metadata": {},
   "source": [
    " </font>\n",
    "\n",
    " | Column                  | Description                                              |\n",
    "|-------------------------|----------------------------------------------------------|\n",
    "| CleEffet                | Identifier for transactions.                             |\n",
    "| Date                    | Date of the transaction.                                  |\n",
    "| TypeEffet               | Type of transaction.                                      |\n",
    "| FamilleArticle          | Family/category of the transaction product.              |\n",
    "| CodeProduit             | Product code.                                            |\n",
    "| ReferenceProduit        | Reference code for the product.                           |\n",
    "| NLot                    | Lot number.                                              |\n",
    "| Produit_Designation     | Original designation of the product of a transaction detail.|\n",
    "| DetailEffet_Designation | Designation (sometimes different from Produit_Designation) of a transaction detail.|\n",
    "| Quantite                | Quantity of the product.                                  |\n",
    "| PrixAchat               | Purchase price.                                         |\n",
    "| PrixUnitaireTTC         | Unit price including taxes.                              |\n",
    "| DetailEffet_Marge       | Margin for the transaction detail.                        |\n",
    "| Effet_Marge             | Margin for the transaction.                               |\n",
    "| MontantHT               | Transaction amount excluding taxes.                      |\n",
    "| Payement                | Payment amount.                                          |\n",
    "\n"
   ]
  },
  {
   "cell_type": "code",
   "execution_count": 4,
   "metadata": {},
   "outputs": [],
   "source": [
    "import pandas as pd\n"
   ]
  },
  {
   "cell_type": "code",
   "execution_count": 5,
   "metadata": {},
   "outputs": [
    {
     "name": "stdout",
     "output_type": "stream",
     "text": [
      "<class 'pandas.core.frame.DataFrame'>\n",
      "RangeIndex: 261001 entries, 0 to 261000\n",
      "Data columns (total 16 columns):\n",
      " #   Column                   Non-Null Count   Dtype  \n",
      "---  ------                   --------------   -----  \n",
      " 0   CleEffet                 261001 non-null  int64  \n",
      " 1   Date                     261001 non-null  object \n",
      " 2   TypeEffet                261001 non-null  object \n",
      " 3   FamilleArticle           261001 non-null  object \n",
      " 4   Code Produit             160237 non-null  object \n",
      " 5   Reference Produit        135717 non-null  object \n",
      " 6   NLot                     228637 non-null  object \n",
      " 7   Produit_Designation      261001 non-null  object \n",
      " 8   DetailEffet_Designation  261001 non-null  object \n",
      " 9   Quantite                 261001 non-null  float64\n",
      " 10  PrixAchat                261001 non-null  object \n",
      " 11  PrixUnitaireTTC          261001 non-null  object \n",
      " 12  DetailEffet_Marge        261001 non-null  object \n",
      " 13  Effet_Marge              261001 non-null  object \n",
      " 14  MontantHT                261001 non-null  object \n",
      " 15  Payement                 261001 non-null  object \n",
      "dtypes: float64(1), int64(1), object(14)\n",
      "memory usage: 31.9+ MB\n",
      "None\n",
      "(261001, 16)\n"
     ]
    }
   ],
   "source": [
    "data = pd.read_csv(\"./Project_datamining_final_data_03_12_an1.csv\")\n",
    "print(data.info())\n",
    "print(data.shape)\n",
    "\n"
   ]
  },
  {
   "cell_type": "markdown",
   "metadata": {},
   "source": [
    "### 1.3 Data Cleaning and Preprocessing:\n",
    "\n",
    "<font color=\"#ffe9c4\">At this stages we should improve the quality of our data, and make it easy to use and work with by doing the following:</font>"
   ]
  },
  {
   "cell_type": "markdown",
   "metadata": {},
   "source": [
    "#### 1.3.1 Data Cleanning:\n",
    "Clean the raw data by handling missing values, outliers, and inconsistencies.\n",
    "\n"
   ]
  },
  {
   "cell_type": "markdown",
   "metadata": {},
   "source": [
    "#### 1.3.2 Data Preprocessing:\n",
    "Preprocess the data to transform it into a suitable format (type) for analysis since most of our data are of type object. This step include also normalization, standardization, and encoding categorical variables and also transforming the attributes names and content to english since they are written in french."
   ]
  },
  {
   "cell_type": "markdown",
   "metadata": {},
   "source": [
    "### 1.4 Exploratory Data Analysis (EDA):\n",
    "\n",
    "<font color=\"#ffe9c4\">Explore the data to gain insights and an initial understanding of its characteristics. This may involve the use of statistical summaries, visualizations, and other exploratory techniques.</font>"
   ]
  },
  {
   "cell_type": "markdown",
   "metadata": {},
   "source": [
    "### 1.5 Feature Selection/Engineering:\n",
    "\n",
    "<font color=\"#ffe9c4\">Select relevant features (variables) for analysis and, if needed, create new features that may enhance the predictive power of the model.</font>"
   ]
  },
  {
   "cell_type": "markdown",
   "metadata": {},
   "source": [
    "### 1.6 Data Splitting:\n",
    "\n",
    "<font color=\"#ffe9c4\">Divide the dataset into training, validation, and test sets. The training set is used to train the model, the validation set is used to tune hyperparameters, and the test set is used to evaluate the model's performance.</font>\n"
   ]
  },
  {
   "cell_type": "markdown",
   "metadata": {},
   "source": [
    "\n",
    "### 1.7 Model Selection:\n",
    "\n",
    "<font color=\"#ffe9c4\">Choose the appropriate data mining algorithm(s) based on the nature of the problem and the characteristics of the data. Common algorithms include decision trees, clustering, regression, and neural networks.</font>"
   ]
  },
  {
   "cell_type": "markdown",
   "metadata": {},
   "source": [
    "\n",
    "### 1.8 Model Training:\n",
    "\n",
    "<font color=\"#ffe9c4\">Train the selected model(s) on the training dataset. This involves using historical data to teach the model to recognize patterns and relationships.</font>"
   ]
  },
  {
   "cell_type": "markdown",
   "metadata": {},
   "source": [
    "\n",
    "### 1.9 Model Evaluation:\n",
    "\n",
    "<font color=\"#ffe9c4\">Assess the performance of the model using the validation set. This may involve metrics such as accuracy, precision, recall, F1 score, or area under the receiver operating characteristic curve (AUC-ROC), depending on the nature of the problem (classification, regression, etc.).</font>"
   ]
  }
 ],
 "metadata": {
  "kernelspec": {
   "display_name": "DM_ENV",
   "language": "python",
   "name": "python3"
  },
  "language_info": {
   "codemirror_mode": {
    "name": "ipython",
    "version": 3
   },
   "file_extension": ".py",
   "mimetype": "text/x-python",
   "name": "python",
   "nbconvert_exporter": "python",
   "pygments_lexer": "ipython3",
   "version": "3.11.5"
  }
 },
 "nbformat": 4,
 "nbformat_minor": 2
}
