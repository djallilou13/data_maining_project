{
 "cells": [
  {
   "cell_type": "markdown",
   "metadata": {},
   "source": [
    "# Boosting Algerian Agricultural Company Profits\n",
    "\n",
    "<font color=\"#fcd695\"> The goal from this project in to create a model that can predict the improvement of salles of agricultural products for a specific agricultural company in other words, we want to dectect how to boost the profit of Algerian Agricultural Company </strong></font>\n"
   ]
  },
  {
   "cell_type": "markdown",
   "metadata": {},
   "source": [
    "## 1 Steps Of The Project:"
   ]
  },
  {
   "cell_type": "markdown",
   "metadata": {},
   "source": [
    "### 1.1 Understand the Business/Research Context:\n",
    "\n",
    "<font color=\"#ffe9c4\">Gain a deep understanding of the business or research context. Understand the domain, business goals, and specific challenges.</font>"
   ]
  },
  {
   "cell_type": "markdown",
   "metadata": {},
   "source": [
    "### 1.2 Data presentation:\n",
    "\n",
    "<font color=\"#ffe9c4\">\n",
    "The dataset is csv file that contains a comprehensive dataset capturing various transactions within an agriculture company.The dataset has this features: \n"
   ]
  },
  {
   "cell_type": "markdown",
   "metadata": {},
   "source": [
    " </font>\n",
    "\n",
    " | Column                  | Description                                              |\n",
    "|-------------------------|----------------------------------------------------------|\n",
    "| CleEffet                | Identifier for transactions.                             |\n",
    "| Date                    | Date of the transaction.                                  |\n",
    "| TypeEffet               | Type of transaction.                                      |\n",
    "| FamilleArticle          | Family/category of the transaction product.              |\n",
    "| CodeProduit             | Product code.                                            |\n",
    "| ReferenceProduit        | Reference code for the product.                           |\n",
    "| NLot                    | Lot number.                                              |\n",
    "| Produit_Designation     | Original designation of the product of a transaction detail.|\n",
    "| DetailEffet_Designation | Designation (sometimes different from Produit_Designation) of a transaction detail.|\n",
    "| Quantite                | Quantity of the product.                                  |\n",
    "| PrixAchat               | Purchase price.                                         |\n",
    "| PrixUnitaireTTC         | Unit price including taxes.                              |\n",
    "| DetailEffet_Marge       | Margin for the transaction detail.                        |\n",
    "| Effet_Marge             | Margin for the transaction.                               |\n",
    "| MontantHT               | Transaction amount excluding taxes.                      |\n",
    "| Payement                | Payment amount.                                          |\n",
    "\n"
   ]
  },
  {
   "cell_type": "code",
   "execution_count": null,
   "metadata": {},
   "outputs": [],
   "source": [
    "import pandas as pd\n",
    "import matplotlib.pyplot as plt"
   ]
  },
  {
   "cell_type": "code",
   "execution_count": null,
   "metadata": {},
   "outputs": [],
   "source": [
    "data = pd.read_csv(\"./Project_datamining_final_data_03_12_an1.csv\")\n",
    "print(data.info())\n",
    "print(data.shape)"
   ]
  },
  {
   "cell_type": "code",
   "execution_count": null,
   "metadata": {},
   "outputs": [],
   "source": [
    "data.head()"
   ]
  },
  {
   "cell_type": "code",
   "execution_count": null,
   "metadata": {},
   "outputs": [],
   "source": [
    "# Data Types Assingment\n",
    "data['CleEffet'] = data['CleEffet'].astype(str)\n",
    "data['Date'] = pd.to_datetime(data['Date'], format = '%m/%d/%Y')\n",
    "data['TypeEffet'] = data['TypeEffet'].astype(str)\n",
    "data['FamilleArticle'] = data['FamilleArticle'].astype(str)\n",
    "data['Code Produit'] = data['Code Produit'].astype(str)\n",
    "data['Reference Produit'] = data['Reference Produit'].astype(str)\n",
    "data['NLot'] = data['NLot'].astype(str)\n",
    "data['Produit_Designation'] = data['Produit_Designation'].astype(str)\n",
    "data['DetailEffet_Designation'] = data['DetailEffet_Designation'].astype(str)\n",
    "data['Code Produit'] = data['Code Produit'].astype(str)\n",
    "\n",
    "data['PrixAchat'] = data['PrixAchat'].str.replace(',', '').astype('float64')\n",
    "data['PrixUnitaireTTC'] = data['PrixUnitaireTTC'].str.replace(',', '').astype('float64')\n",
    "data['DetailEffet_Marge'] = data['DetailEffet_Marge'].str.replace(',', '').astype('float64')\n",
    "data['Effet_Marge'] = data['Effet_Marge'].str.replace(',', '').astype('float64')\n",
    "data['MontantHT'] = data['MontantHT'].str.replace(',', '').astype('float64')\n",
    "data['Payement'] = data['Payement'].str.replace(',', '').astype('float64')"
   ]
  },
  {
   "cell_type": "code",
   "execution_count": null,
   "metadata": {},
   "outputs": [],
   "source": [
    "data['TypeEffet'].value_counts()"
   ]
  },
  {
   "cell_type": "code",
   "execution_count": null,
   "metadata": {},
   "outputs": [],
   "source": [
    "data2013 = data[data['Date'].dt.year == 2013]\n",
    "data2013.head()"
   ]
  },
  {
   "cell_type": "code",
   "execution_count": null,
   "metadata": {},
   "outputs": [],
   "source": [
    "data['TypeEffet'].value_counts()\n",
    "data.query('TypeEffet == \"Bon de livraison\" and CleEffet > \"546\"')\n",
    "data.query('(PrixUnitaireTTC - PrixAchat) * Quantite != DetailEffet_Marge and TypeEffet == \"Bon de livraison\"' )\n",
    "\n",
    "\n"
   ]
  },
  {
   "cell_type": "code",
   "execution_count": null,
   "metadata": {},
   "outputs": [],
   "source": [
    "data2013Livraison = data2013[data2013['TypeEffet'] == 'Bon de livraison']\n",
    "\n",
    "\n",
    "# Extract month and year from the 'Date' column\n",
    "data2013Livraison['Month'] = data2013Livraison['Date'].dt.month\n",
    "\n",
    "# Group by 'FamilleArticle' and 'Month' and sum the 'Quantite' for each group\n",
    "grouped = data2013Livraison.groupby(['FamilleArticle', 'Month'])['DetailEffet_Marge'].sum().reset_index()\n",
    "\n",
    "# Splitting categories into groups of 10 for plotting\n",
    "categories = grouped['FamilleArticle'].unique()\n",
    "\n",
    "for i in range(len(categories) // 10 + 1):\n",
    "    plt.figure(figsize=(10, 6))\n",
    "    \n",
    "    for j in range(i * 10, min((i + 1) * 10, len(categories))):\n",
    "        plt.title(f'Categories {i * 10 + 1} to {min((i + 1) * 10, len(categories))}')\n",
    "        \n",
    "        category = categories[j]\n",
    "        category_data = grouped[grouped['FamilleArticle'] == category]\n",
    "        plt.plot(category_data['Month'], category_data['DetailEffet_Marge'], label=category)\n",
    "        \n",
    "        plt.xlabel('Months')\n",
    "        plt.ylabel('DetailEffet_Marge')\n",
    "    \n",
    "    plt.legend()\n",
    "    plt.tight_layout()\n",
    "    \n",
    "    # Save each set of 10 categories as an individual image file\n",
    "    plt.savefig(f'plot_categories_{i * 10 + 1}_to_{min((i + 1) * 10, len(categories))}.png')\n",
    "    plt.close()  # Close the current figure to prevent overlapping plots\n",
    "\n",
    "print(\"Plots saved as individual image files.\")"
   ]
  },
  {
   "cell_type": "code",
   "execution_count": null,
   "metadata": {},
   "outputs": [],
   "source": [
    "# Define a custom function to sort the DataFrame within each group\n",
    "def sort_by_detail_marge(group):\n",
    "    return group.sort_values(by='DetailEffet_Marge', ascending=False)\n",
    "\n",
    "# Apply the custom function to each group within each month\n",
    "sorted_grouped = grouped.groupby('Month', group_keys=False).apply(sort_by_detail_marge)\n",
    "\n",
    "# Path to save PDF files\n",
    "pdf_path = 'tables2013'\n",
    "\n",
    "# Iterate over each month\n",
    "for month, month_group in sorted_grouped.groupby('Month'):\n",
    "    # Calculate the percentage column and round to two decimal places\n",
    "    month_group['Percentage'] = (month_group['DetailEffet_Marge'] / month_group['DetailEffet_Marge'].sum() * 100).round(2)\n",
    "\n",
    "    # Round 'DetailEffet_Marge' to two decimal places\n",
    "    month_group['DetailEffet_Marge'] = month_group['DetailEffet_Marge'].round(2)\n",
    "\n",
    "    # Create a table using matplotlib\n",
    "    fig, ax = plt.subplots()\n",
    "    ax.axis('tight')\n",
    "    ax.axis('off')\n",
    "\n",
    "    # Include 'Percentage' column in the table\n",
    "    table_data = month_group[['FamilleArticle', 'DetailEffet_Marge', 'Percentage']].values\n",
    "    col_labels = ['FamilleArticle', 'DetailEffet_Marge', 'Percentage']\n",
    "    ax.table(cellText=table_data,\n",
    "             colLabels=col_labels,\n",
    "             cellLoc='center', loc='center')\n",
    "\n",
    "    # Save the table as a PDF file\n",
    "    pdf_filename = f'{pdf_path}/table_{month}.pdf'\n",
    "    plt.savefig(pdf_filename, format='pdf', bbox_inches='tight')\n",
    "    plt.close()"
   ]
  },
  {
   "cell_type": "code",
   "execution_count": null,
   "metadata": {},
   "outputs": [],
   "source": [
    "data2013Livraison = data[data['TypeEffet'] == 'Bon de livraison']\n",
    "\n",
    "\n",
    "# Extract month and year from the 'Date' column\n",
    "data2013Livraison['Month'] = data2013Livraison['Date'].dt.month\n",
    "\n",
    "# Group by 'FamilleArticle' and 'Month' and sum the 'Quantite' for each group\n",
    "grouped = data2013Livraison.groupby(['FamilleArticle', 'Month'])['DetailEffet_Marge'].sum().reset_index()\n",
    "\n",
    "\n",
    "# Define a custom function to sort the DataFrame within each group\n",
    "def sort_by_detail_marge(group):\n",
    "    return group.sort_values(by='DetailEffet_Marge', ascending=False)\n",
    "\n",
    "# Apply the custom function to each group within each month\n",
    "sorted_grouped = grouped.groupby('Month', group_keys=False).apply(sort_by_detail_marge)\n",
    "\n",
    "# Path to save PDF files\n",
    "pdf_path = 'tables'\n",
    "\n",
    "# Iterate over each month\n",
    "for month, month_group in sorted_grouped.groupby('Month'):\n",
    "    # Calculate the percentage column and round to two decimal places\n",
    "    month_group['Percentage'] = (month_group['DetailEffet_Marge'] / month_group['DetailEffet_Marge'].sum() * 100).round(2)\n",
    "\n",
    "    # Round 'DetailEffet_Marge' to two decimal places\n",
    "    month_group['DetailEffet_Marge'] = month_group['DetailEffet_Marge'].round(2)\n",
    "\n",
    "    # Create a table using matplotlib\n",
    "    fig, ax = plt.subplots()\n",
    "    ax.axis('tight')\n",
    "    ax.axis('off')\n",
    "\n",
    "    # Include 'Percentage' column in the table\n",
    "    table_data = month_group[['FamilleArticle', 'DetailEffet_Marge', 'Percentage']].values\n",
    "    col_labels = ['FamilleArticle', 'DetailEffet_Marge', 'Percentage']\n",
    "    ax.table(cellText=table_data,\n",
    "             colLabels=col_labels,\n",
    "             cellLoc='center', loc='center')\n",
    "\n",
    "    # Save the table as a PDF file\n",
    "    pdf_filename = f'{pdf_path}/table_{month}.pdf'\n",
    "    plt.savefig(pdf_filename, format='pdf', bbox_inches='tight')\n",
    "    plt.close()\n"
   ]
  },
  {
   "cell_type": "code",
   "execution_count": null,
   "metadata": {},
   "outputs": [],
   "source": [
    "data2013Livraison[data2013Livraison['FamilleArticle'] == 'Courgette_Hybride']\n",
    "data2013Livraison.query('FamilleArticle == \"Courgette_Hybride\" and Effet_Marge < 0')"
   ]
  },
  {
   "cell_type": "code",
   "execution_count": null,
   "metadata": {},
   "outputs": [],
   "source": [
    "correct_marge=data.query('(PrixUnitaireTTC - PrixAchat)  == DetailEffet_Marge/Quantite and TypeEffet == \"Bon de livraison\"' )\n",
    "correct_marge['unitMargin'] = correct_marge['DetailEffet_Marge'] / correct_marge['Quantite']\n",
    "averagebyfamille=correct_marge.groupby('FamilleArticle')['unitMargin'].mean().reset_index()\n",
    "averagebyfamille"
   ]
  },
  {
   "cell_type": "code",
   "execution_count": null,
   "metadata": {},
   "outputs": [],
   "source": [
    "fixedData = data[data['TypeEffet'] == 'Bon de livraison']\n",
    "# Multiply 'averagebyfamille' by 'quantity' and override 'Detaileffetmarge'\n",
    "fixedData['DetailEffet_Marge'] = fixedData['FamilleArticle'].map(averagebyfamille.set_index('FamilleArticle')['unitMargin']) * fixedData['Quantite']\n",
    "fixedData\n"
   ]
  },
  {
   "cell_type": "code",
   "execution_count": null,
   "metadata": {},
   "outputs": [],
   "source": [
    "# Extract month and year from the 'Date' column\n",
    "fixedData['Month'] = fixedData['Date'].dt.month\n",
    "fixedData['Year'] = fixedData['Date'].dt.year\n",
    "\n",
    "# Group by 'FamilleArticle', 'Month', and 'Year' and sum the 'DetailEffet_Marge' for each group\n",
    "grouped = fixedData.groupby(['FamilleArticle', 'Month', 'Year'])['DetailEffet_Marge'].sum().reset_index()\n",
    "\n",
    "# Group by 'FamilleArticle' and 'Month' and calculate the average of the monthly sums\n",
    "average_grouped = grouped.groupby(['FamilleArticle', 'Month'])['DetailEffet_Marge'].mean().reset_index()\n",
    "\n",
    "# Define a custom function to sort the DataFrame within each group\n",
    "def sort_by_detail_marge(group):\n",
    "    return group.sort_values(by='DetailEffet_Marge', ascending=False)\n",
    "\n",
    "# Apply the custom function to each group within each month\n",
    "sorted_grouped = average_grouped.groupby('Month', group_keys=False).apply(sort_by_detail_marge)\n",
    "\n",
    "# Path to save PDF files\n",
    "pdf_path = 'summedtables'\n",
    "\n",
    "# Iterate over each month\n",
    "for month, month_group in sorted_grouped.groupby('Month'):\n",
    "    # Calculate the percentage column and round to two decimal places\n",
    "    month_group['Percentage'] = (month_group['DetailEffet_Marge'] / month_group['DetailEffet_Marge'].sum() * 100).round(2)\n",
    "\n",
    "    # Round 'DetailEffet_Marge' to two decimal places\n",
    "    month_group['DetailEffet_Marge'] = month_group['DetailEffet_Marge'].round(2)\n",
    "\n",
    "    # Create a table using matplotlib\n",
    "    fig, ax = plt.subplots()\n",
    "    ax.axis('tight')\n",
    "    ax.axis('off')\n",
    "\n",
    "    # Include 'Percentage' column in the table\n",
    "    table_data = month_group[['FamilleArticle', 'DetailEffet_Marge', 'Percentage']].values\n",
    "    col_labels = ['FamilleArticle', 'DetailEffet_Marge', 'Percentage']\n",
    "    ax.table(cellText=table_data,\n",
    "             colLabels=col_labels,\n",
    "             cellLoc='center', loc='center')\n",
    "\n",
    "    # Save the table as a PDF file\n",
    "    pdf_filename = f'{pdf_path}/table_{month}.pdf'\n",
    "    plt.savefig(pdf_filename, format='pdf', bbox_inches='tight')\n",
    "    plt.close()"
   ]
  },
  {
   "cell_type": "code",
   "execution_count": null,
   "metadata": {},
   "outputs": [],
   "source": [
    "# Group by 'FamilleArticle' and 'Year' and calculate the sum of 'DetailEffet_Marge' for each group\n",
    "evolution_data = grouped.groupby(['FamilleArticle', 'Year'])['DetailEffet_Marge'].sum().reset_index()\n",
    "\n",
    "# Create an evolution graph for each 'FamilleArticle'\n",
    "for famille, famille_group in evolution_data.groupby('FamilleArticle'):\n",
    "    plt.figure(figsize=(10, 6))\n",
    "    plt.plot(famille_group['Year'], famille_group['DetailEffet_Marge'], marker='o', label=famille)\n",
    "    plt.title(f'Evolution of DetailEffet_Marge for {famille} over Time')\n",
    "    plt.xlabel('Year')\n",
    "    plt.ylabel('DetailEffet_Marge Sum')\n",
    "    plt.legend()\n",
    "    plt.grid(True)\n",
    "    plt.show()"
   ]
  },
  {
   "cell_type": "code",
   "execution_count": null,
   "metadata": {},
   "outputs": [],
   "source": [
    "%pip install bar_chart_race\n"
   ]
  },
  {
   "cell_type": "code",
   "execution_count": null,
   "metadata": {},
   "outputs": [],
   "source": [
    "import bar_chart_race as bcr\n",
    "plt.rcParams['animation.ffmpeg_path'] = '../ffmpeg-6.1'\n",
    "\n",
    "# Assuming you have a DataFrame named 'fixedData'\n",
    "# Make sure that the 'Date', 'FamilleArticle', and 'DetailEffet_Marge' columns are present in the DataFrame\n",
    "\n",
    "# Extract month and year from the 'Date' column\n",
    "fixedData['Month'] = fixedData['Date'].dt.month\n",
    "fixedData['Year'] = fixedData['Date'].dt.year\n",
    "\n",
    "# Group by 'FamilleArticle', 'Month', and 'Year' and sum the 'DetailEffet_Marge' for each group\n",
    "grouped = fixedData.groupby(['FamilleArticle', 'Month', 'Year'])['DetailEffet_Marge'].sum().reset_index()\n",
    "\n",
    "# Pivot the DataFrame to have 'Year' as index, 'FamilleArticle' as columns, and 'DetailEffet_Marge' as values\n",
    "pivot_df = grouped.pivot_table(index='Year', columns='FamilleArticle', values='DetailEffet_Marge', fill_value=0)\n",
    "\n",
    "# Create a bar chart race\n",
    "bcr.bar_chart_race(\n",
    "    df=pivot_df,\n",
    "    filename='bar_chart_race_evolution.mp4',\n",
    "    orientation='h',\n",
    "    sort='desc',\n",
    "    n_bars=10,\n",
    "    fixed_order=False,\n",
    "    steps_per_period=10,\n",
    "    interpolate_period=True,\n",
    "    period_length=500,\n",
    "    figsize=(8, 5),\n",
    "    title='Evolution of DetailEffet_Marge for FamilleArticles over Time'\n",
    ")"
   ]
  },
  {
   "cell_type": "markdown",
   "metadata": {},
   "source": [
    "### 1.3 Data Cleaning and Preprocessing:\n",
    "\n",
    "<font color=\"#ffe9c4\">At this stages we should improve the quality of our data, and make it easy to use and work with by doing the following:</font>"
   ]
  },
  {
   "cell_type": "markdown",
   "metadata": {},
   "source": [
    "#### 1.3.1 Data Cleanning:\n",
    "Clean the raw data by handling missing values, outliers, and inconsistencies.\n",
    "\n"
   ]
  },
  {
   "cell_type": "markdown",
   "metadata": {},
   "source": [
    "#### 1.3.2 Data Preprocessing:\n",
    "Preprocess the data to transform it into a suitable format (type) for analysis since most of our data are of type object. This step include also normalization, standardization, and encoding categorical variables and also transforming the attributes names and content to english since they are written in french."
   ]
  },
  {
   "cell_type": "markdown",
   "metadata": {},
   "source": [
    "### 1.4 Exploratory Data Analysis (EDA):\n",
    "\n",
    "<font color=\"#ffe9c4\">Explore the data to gain insights and an initial understanding of its characteristics. This may involve the use of statistical summaries, visualizations, and other exploratory techniques.</font>"
   ]
  }
 ],
 "metadata": {
  "kernelspec": {
   "display_name": "DM_ENV",
   "language": "python",
   "name": "python3"
  },
  "language_info": {
   "codemirror_mode": {
    "name": "ipython",
    "version": 3
   },
   "file_extension": ".py",
   "mimetype": "text/x-python",
   "name": "python",
   "nbconvert_exporter": "python",
   "pygments_lexer": "ipython3",
   "version": "3.11.5"
  }
 },
 "nbformat": 4,
 "nbformat_minor": 2
}
